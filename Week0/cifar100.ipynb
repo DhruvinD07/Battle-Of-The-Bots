{
 "cells": [
  {
   "cell_type": "code",
   "execution_count": 25,
   "id": "40278264",
   "metadata": {},
   "outputs": [],
   "source": [
    "import torch\n",
    "import torch.nn as nn\n",
    "import torch.optim as optim\n",
    "import torch.nn.functional as F\n",
    "from torchvision import datasets, transforms\n",
    "from torch.utils.data import DataLoader\n",
    "import matplotlib.pyplot as plt"
   ]
  },
  {
   "cell_type": "code",
   "execution_count": 26,
   "id": "c73c0144",
   "metadata": {},
   "outputs": [
    {
     "name": "stdout",
     "output_type": "stream",
     "text": [
      "Using device: cpu\n"
     ]
    }
   ],
   "source": [
    "# Using the GPU if it exists\n",
    "device = torch.device(\"cuda\" if torch.cuda.is_available() else \"cpu\")\n",
    "print(f\"Using device: {device}\")"
   ]
  },
  {
   "cell_type": "code",
   "execution_count": 27,
   "id": "2851731f",
   "metadata": {},
   "outputs": [],
   "source": [
    "transform = transforms.Compose([transforms.ToTensor(), transforms.Normalize((0.5,), (0.5,))])\n",
    "\n",
    "train_dataset = datasets.CIFAR100(root='./data', train=True, transform=transform, download=True)\n",
    "test_dataset = datasets.CIFAR100(root='./data', train=False, transform=transform, download=True)\n",
    "\n",
    "train_loader = DataLoader(train_dataset, batch_size=64, shuffle=True)\n",
    "test_loader = DataLoader(test_dataset, batch_size=1000)"
   ]
  },
  {
   "cell_type": "code",
   "execution_count": 28,
   "id": "d3f6ff3c",
   "metadata": {},
   "outputs": [],
   "source": [
    "model_normal = nn.Sequential(\n",
    "    nn.Flatten(),\n",
    "    nn.Linear(32*32*3, 512),  #From 32x32 RGB \n",
    "    nn.ReLU(),\n",
    "    nn.Linear(512, 256),\n",
    "    nn.ReLU(),\n",
    "    nn.Linear(256, 100)       \n",
    ")"
   ]
  },
  {
   "cell_type": "code",
   "execution_count": 29,
   "id": "dca4e9dd",
   "metadata": {},
   "outputs": [],
   "source": [
    "# Training loop\n",
    "def train(model, loader, optimizer, loss_fn, epochs=5):\n",
    "    model.train()\n",
    "    for epoch in range(epochs):\n",
    "        total_loss = 0\n",
    "        for x, y in loader:\n",
    "            x, y = x.to(device), y.to(device)\n",
    "            optimizer.zero_grad()\n",
    "            logits = model(x)\n",
    "            loss = loss_fn(logits, y)\n",
    "            loss.backward()\n",
    "            optimizer.step()\n",
    "            total_loss += loss.item()\n",
    "        print(f\"Epoch {epoch+1}, Loss: {total_loss:.4f}\")\n",
    "\n",
    "# Testing loop\n",
    "def test(model, loader):\n",
    "    model.eval()\n",
    "    correct = 0\n",
    "    total = 0\n",
    "    with torch.no_grad():\n",
    "        for x, y in loader:\n",
    "            x, y = x.to(device), y.to(device)\n",
    "            logits = model(x)\n",
    "            pred = logits.argmax(dim=1)\n",
    "            correct += (pred == y).sum().item()\n",
    "            total += y.size(0)\n",
    "    print(f\"Accuracy: {100 * correct / total:.2f}%\")\n"
   ]
  },
  {
   "cell_type": "code",
   "execution_count": 30,
   "id": "a07500f0",
   "metadata": {},
   "outputs": [
    {
     "name": "stdout",
     "output_type": "stream",
     "text": [
      "\n",
      "Cifar-100 Model\n",
      "Epoch 1, Loss: 2915.7846\n",
      "Epoch 2, Loss: 2610.4922\n",
      "Epoch 3, Loss: 2464.9071\n",
      "Epoch 4, Loss: 2345.3432\n",
      "Epoch 5, Loss: 2239.5449\n",
      "Accuracy: 23.09%\n"
     ]
    }
   ],
   "source": [
    "print(\"\\nCifar-100 Model\")\n",
    "cifar_model = model_normal.to(device)\n",
    "optimizer_seq = optim.Adam(cifar_model.parameters(), lr=0.001)\n",
    "loss_fn = nn.CrossEntropyLoss()\n",
    "\n",
    "train(cifar_model, train_loader, optimizer_seq, loss_fn)\n",
    "test(cifar_model, test_loader)"
   ]
  },
  {
   "cell_type": "code",
   "execution_count": 31,
   "id": "4c970886",
   "metadata": {},
   "outputs": [],
   "source": [
    "class CIFARNet(nn.Module):\n",
    "    def __init__(self):\n",
    "        super(CIFARNet, self).__init__()\n",
    "        self.fc1 = nn.Linear(32*32*3, 512)\n",
    "        self.fc2 = nn.Linear(512, 256)\n",
    "        self.fc3 = nn.Linear(256, 100)\n",
    "        \n",
    "    def forward(self, x):\n",
    "        x = x.view(-1, 32*32*3)     # Flatten the image\n",
    "        x = F.relu(self.fc1(x))     # First layer + ReLU\n",
    "        x = F.relu(self.fc2(x))     # Second layer + ReLU\n",
    "        x = self.fc3(x)             # Final layer (logits)\n",
    "        return x"
   ]
  },
  {
   "cell_type": "code",
   "execution_count": 32,
   "id": "c9884dfc",
   "metadata": {},
   "outputs": [
    {
     "name": "stdout",
     "output_type": "stream",
     "text": [
      "\n",
      "Using nn.functional\n",
      "Epoch 1, Loss: 2923.1245\n",
      "Epoch 2, Loss: 2623.7310\n",
      "Epoch 3, Loss: 2474.2449\n",
      "Epoch 4, Loss: 2358.3736\n",
      "Epoch 5, Loss: 2250.8000\n",
      "Accuracy: 23.07%\n"
     ]
    }
   ],
   "source": [
    "print(\"\\nUsing nn.functional\")\n",
    "model = CIFARNet().to(device)\n",
    "optimizer = optim.Adam(model.parameters(), lr=0.001)\n",
    "loss_fn = nn.CrossEntropyLoss()\n",
    "\n",
    "train(model, train_loader, optimizer, loss_fn)\n",
    "test(model, test_loader)"
   ]
  },
  {
   "cell_type": "code",
   "execution_count": 33,
   "id": "9c64811f",
   "metadata": {},
   "outputs": [
    {
     "name": "stderr",
     "output_type": "stream",
     "text": [
      "Clipping input data to the valid range for imshow with RGB data ([0..1] for floats or [0..255] for integers). Got range [-0.6313726..1.0].\n",
      "Clipping input data to the valid range for imshow with RGB data ([0..1] for floats or [0..255] for integers). Got range [-0.92156863..0.81960785].\n",
      "Clipping input data to the valid range for imshow with RGB data ([0..1] for floats or [0..255] for integers). Got range [-0.92941177..0.9529412].\n",
      "Clipping input data to the valid range for imshow with RGB data ([0..1] for floats or [0..255] for integers). Got range [-0.9607843..0.9607843].\n",
      "Clipping input data to the valid range for imshow with RGB data ([0..1] for floats or [0..255] for integers). Got range [-0.85882354..0.92941177].\n"
     ]
    },
    {
     "data": {
      "image/png": "[encoded data removed]",
      "text/plain": [
       "<Figure size 1000x200 with 5 Axes>"
      ]
     },
     "metadata": {},
     "output_type": "display_data"
    }
   ],
   "source": [
    "def visualize(model, loader, n=5):\n",
    "    model.eval()\n",
    "    x, y = next(iter(loader))\n",
    "    x, y = x.to(device), y.to(device)\n",
    "    preds = model(x).argmax(dim=1)\n",
    "\n",
    "    plt.figure(figsize=(10, 2))\n",
    "    for i in range(n):\n",
    "        plt.subplot(1, n, i+1)\n",
    "        plt.imshow(x[i].cpu().permute(1, 2, 0))  \n",
    "        plt.title(f\"T:{y[i].item()} P:{preds[i].item()}\")\n",
    "        plt.axis('off')\n",
    "    plt.show()\n",
    "\n",
    "visualize(model, test_loader) # Uncomment this later\n",
    "#visualize(sequential_model, test_loader)"
   ]
  }
 ],
 "metadata": {
  "kernelspec": {
   "display_name": "venv",
   "language": "python",
   "name": "python3"
  },
  "language_info": {
   "codemirror_mode": {
    "name": "ipython",
    "version": 3
   },
   "file_extension": ".py",
   "mimetype": "text/x-python",
   "name": "python",
   "nbconvert_exporter": "python",
   "pygments_lexer": "ipython3",
   "version": "3.12.4"
  }
 },
 "nbformat": 4,
 "nbformat_minor": 5
}
